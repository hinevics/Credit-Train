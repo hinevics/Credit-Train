{
 "cells": [
  {
   "cell_type": "code",
   "execution_count": 124,
   "metadata": {},
   "outputs": [],
   "source": [
    "import pandas as pd\n",
    "import matplotlib.pyplot as plt\n",
    "import numpy as np\n",
    "import seaborn\n",
    "import re"
   ]
  },
  {
   "cell_type": "code",
   "execution_count": 125,
   "metadata": {},
   "outputs": [
    {
     "name": "stderr",
     "output_type": "stream",
     "text": [
      "C:\\ProgramData\\Anaconda3\\lib\\site-packages\\IPython\\core\\interactiveshell.py:3165: DtypeWarning: Columns (14) have mixed types.Specify dtype option on import or set low_memory=False.\n",
      "  has_raised = await self.run_ast_nodes(code_ast.body, cell_name,\n"
     ]
    }
   ],
   "source": [
    "\n",
    "DEFAULT_PATH_DATA_CREDIT = r'E:\\Hinevics\\Dropbox\\Programm\\GitHub\\Credit-Train\\Data\\credit_train.csv'\n",
    "\n",
    "data = pd.read_csv(filepath_or_buffer=DEFAULT_PATH_DATA_CREDIT, encoding='utf-8', sep=';', index_col='client_id')"
   ]
  },
  {
   "cell_type": "markdown",
   "metadata": {},
   "source": [
    "# Data preparation"
   ]
  },
  {
   "cell_type": "code",
   "execution_count": 126,
   "metadata": {},
   "outputs": [],
   "source": [
    "# rename open_account_flg\n",
    "data.rename(columns = {'open_account_flg,,': 'open_account_flg'}, inplace=True)"
   ]
  },
  {
   "cell_type": "code",
   "execution_count": 127,
   "metadata": {},
   "outputs": [
    {
     "name": "stdout",
     "output_type": "stream",
     "text": [
      "<class 'pandas.core.frame.DataFrame'>\n",
      "Int64Index: 170746 entries, 1 to 170746\n",
      "Data columns (total 14 columns):\n",
      " #   Column                Non-Null Count   Dtype  \n",
      "---  ------                --------------   -----  \n",
      " 0   gender                170746 non-null  object \n",
      " 1   age                   170743 non-null  float64\n",
      " 2   marital_status        170743 non-null  object \n",
      " 3   job_position          170746 non-null  object \n",
      " 4   credit_sum            170744 non-null  object \n",
      " 5   credit_month          170746 non-null  int64  \n",
      " 6   tariff_id             170746 non-null  float64\n",
      " 7   score_shk             170739 non-null  object \n",
      " 8   education             170741 non-null  object \n",
      " 9   living_region         170554 non-null  object \n",
      " 10  monthly_income        170741 non-null  float64\n",
      " 11  credit_count          161516 non-null  float64\n",
      " 12  overdue_credit_count  161516 non-null  float64\n",
      " 13  open_account_flg      170746 non-null  object \n",
      "dtypes: float64(5), int64(1), object(8)\n",
      "memory usage: 19.5+ MB\n"
     ]
    }
   ],
   "source": [
    "data.info()"
   ]
  },
  {
   "cell_type": "code",
   "execution_count": 128,
   "metadata": {},
   "outputs": [
    {
     "data": {
      "text/plain": [
       "gender                     0\n",
       "age                        3\n",
       "marital_status             3\n",
       "job_position               0\n",
       "credit_sum                 2\n",
       "credit_month               0\n",
       "tariff_id                  0\n",
       "score_shk                  7\n",
       "education                  5\n",
       "living_region            192\n",
       "monthly_income             5\n",
       "credit_count            9230\n",
       "overdue_credit_count    9230\n",
       "open_account_flg           0\n",
       "dtype: int64"
      ]
     },
     "execution_count": 128,
     "metadata": {},
     "output_type": "execute_result"
    }
   ],
   "source": [
    "# Сколько тут nan параметров\n",
    "data.isna().sum()"
   ]
  },
  {
   "cell_type": "code",
   "execution_count": 129,
   "metadata": {},
   "outputs": [],
   "source": [
    "# overdue_credit_count\n",
    "\n",
    "# Я решил удалить все аккануты у которых неизветсно количество кредитов.\n",
    "# поскльку отнести их в какую-то другую категорию не могу, тк количество это не категориальный параметр.\n",
    "data.drop(index=data[data['overdue_credit_count'].isna()].index, inplace=True)"
   ]
  },
  {
   "cell_type": "code",
   "execution_count": 130,
   "metadata": {},
   "outputs": [
    {
     "data": {
      "text/plain": [
       "gender                    0\n",
       "age                       3\n",
       "marital_status            3\n",
       "job_position              0\n",
       "credit_sum                2\n",
       "credit_month              0\n",
       "tariff_id                 0\n",
       "score_shk                 7\n",
       "education                 5\n",
       "living_region           174\n",
       "monthly_income            5\n",
       "credit_count              0\n",
       "overdue_credit_count      0\n",
       "open_account_flg          0\n",
       "dtype: int64"
      ]
     },
     "execution_count": 130,
     "metadata": {},
     "output_type": "execute_result"
    }
   ],
   "source": [
    "data.isna().sum()"
   ]
  },
  {
   "cell_type": "code",
   "execution_count": 132,
   "metadata": {},
   "outputs": [],
   "source": [
    "# living_region\n",
    "index_nan_living_region  = data.living_region.isna().index\n",
    "# data.living_region[data['living_region'].isna()] = 'NON'"
   ]
  },
  {
   "cell_type": "code",
   "execution_count": 133,
   "metadata": {},
   "outputs": [],
   "source": [
    "data['living_region'].fillna(value=\"NON\", inplace=True)\n",
    "data['living_region'].isna().sum()"
   ]
  },
  {
   "cell_type": "code",
   "execution_count": null,
   "metadata": {},
   "outputs": [],
   "source": [
    "data['living_region'].unique()"
   ]
  },
  {
   "cell_type": "code",
   "execution_count": null,
   "metadata": {},
   "outputs": [],
   "source": [
    "stop_words = ['АО', 'КРАЙ', 'РЕСПУБЛИКА', 'Г', 'АОБЛ', 'ОКРУГ', 'ЭЛ', 'ОБЛ', 'РЕСП']\n",
    "def del_words_regions(arg):\n",
    "    arg = re.sub(r\"[\\/\\/\\\\\\.,(0)\\-']\", ' ', str(arg))\n",
    "    words = re.split(' ', arg)\n",
    "    new_words = []\n",
    "    for word in words:\n",
    "        if word not in stop_words:\n",
    "            new_words.append(word)\n",
    "    return ' '.join(new_words)\n",
    "del_words_regions('ОБЛ САРАТОВСКАЯ')"
   ]
  },
  {
   "cell_type": "code",
   "execution_count": null,
   "metadata": {},
   "outputs": [],
   "source": [
    "regions = data['living_region'].unique()\n",
    "regions = pd.Series(data=regions, name='regions', index=regions)\n"
   ]
  },
  {
   "cell_type": "code",
   "execution_count": null,
   "metadata": {},
   "outputs": [],
   "source": [
    "list_uniqie_words_from_regions = {re.sub(pattern=r\"[\\/\\/\\\\\\.,(0)\\-']\",\n",
    "                                         repl='',\n",
    "                                         string=j) for www in map(lambda x: x.split(' ') if type(x) is not float else [], regions.values) for j in www}"
   ]
  },
  {
   "cell_type": "code",
   "execution_count": null,
   "metadata": {},
   "outputs": [],
   "source": [
    "regions = regions.map(del_words_regions)"
   ]
  },
  {
   "cell_type": "code",
   "execution_count": null,
   "metadata": {},
   "outputs": [],
   "source": [
    "# вносим финальные корректировки в regions\n",
    "regions['ЧУКОТСКИЙ АO'] = 'ЧУКОТСКИЙ'\n",
    "regions['ЧУВАШСКАЯ РЕСПУБЛИКА - ЧУВАШИЯ'] = 'ЧУВАШСКАЯ'\n",
    "regions['ЧУВАШИЯ ЧУВАШСКАЯ РЕСПУБЛИКА -'] = 'ЧУВАШСКАЯ'\n",
    "regions['ЧУВАШСКАЯ - ЧУВАШИЯ РЕСП'] = 'ЧУВАШСКАЯ'\n",
    "regions['РЕСП ЧУВАШСКАЯ - ЧУВАШИЯ'] = 'ЧУВАШСКАЯ'\n",
    "regions['ЧУВАШСКАЯ - ЧУВАШИЯ РЕСП'] = 'ЧУВАШСКАЯ'\n",
    "regions['РЕСПУБЛИКАТАТАРСТАН'] = 'ТАТАРСТАН'\n",
    "regions['ПРИВОЛЖСКИЙ ФЕДЕРАЛЬНЫЙ ОКРУГ'] = 'МОСКОВСКАЯ'\n",
    "regions['ПЕРМСКАЯ ОБЛ'] = 'ПЕРМСКИЙ'\n",
    "regions['ОРЁЛ'] = 'ОРЛОВСКАЯ'\n",
    "regions['Г.ОДИНЦОВО МОСКОВСКАЯ ОБЛ'] = 'МОСКОВСКАЯ'\n",
    "regions['МЫТИЩИНСКИЙ Р-Н'] = 'МОСКОВСКАЯ'\n",
    "regions['МОСКОВСКИЙ П'] = 'МОСКОВСКАЯ'\n",
    "regions['КАМЧАТСКАЯ ОБЛАСТЬ'] = 'КАМЧАТСКИЙ'\n",
    "regions['ДАЛЬНИЙ ВОСТОК'] = 'МОСКОВСКАЯ'\n",
    "regions['ДАЛЬНИЙВОСТОК'] = 'МОСКОВСКАЯ'\n",
    "regions['ГУСЬ-ХРУСТАЛЬНЫЙ Р-Н'] = 'ВЛАДИМИРСКАЯ'\n",
    "regions['ГОРЬКОВСКАЯ ОБЛ'] = 'НИЖЕГОРОДСКАЯ'\n",
    "regions['ЭВЕНКИЙСКИЙ АО'] = 'КРАСНОЯРСКИЙ'\n",
    "regions['ХАНТЫ-МАНСИЙСКИЙ АВТОНОМНЫЙ ОКРУГ - ЮГРА'] = 'ХАНТЫ-МАНСИЙСКИЙ'\n",
    "regions['АО ХАНТЫ-МАНСИЙСКИЙ АВТОНОМНЫЙ ОКРУГ - Ю'] = 'ХАНТЫ-МАНСИЙСКИЙ'\n",
    "regions['АО ХАНТЫ-МАНСИЙСКИЙ-ЮГРА'] = 'ХАНТЫ-МАНСИЙСКИЙ'\n",
    "regions['СЕВ. ОСЕТИЯ - АЛАНИЯ'] = 'СЕВЕРНАЯОСЕТИЯ-АЛАНИЯ'\n",
    "regions['РЕСП. САХА (ЯКУТИЯ)'] ='САХА/ЯКУТИЯ/'\n",
    "regions['РЕСПУБЛИКА САХА'] = 'САХА/ЯКУТИЯ/'\n",
    "regions['ДАЛЬНИЙВОСТОК'] = 'МОСКОВСКАЯ'\n",
    "regions['САХА'] = 'САХА/ЯКУТИЯ/'\n",
    "regions['98'] = 'САНКТ-ПЕТЕРБУРГ'\n",
    "regions['74'] = 'ЧЕЛЯБИНСКАЯ'\n",
    "regions['РОССИЯ'] = 'МОСКОВСКАЯ'\n",
    "regions['МОСКВОСКАЯ'] = 'МОСКОВСКАЯ'\n",
    "regions['МОСКВОСКАЯ ОБЛ'] = 'МОСКОВСКАЯ'\n",
    "regions['ЧЕЛЯБИНСК'] = 'ЧЕЛЯБИНСКАЯ'\n",
    "regions['Г. ЧЕЛЯБИНСК'] = 'ЧЕЛЯБИНСКАЯ'\n",
    "regions['БРЯНСКИЙ'] = 'БРЯНСКАЯ'"
   ]
  },
  {
   "cell_type": "code",
   "execution_count": null,
   "metadata": {},
   "outputs": [],
   "source": [
    "data['living_region'] = data['living_region'].map(regions)"
   ]
  },
  {
   "cell_type": "code",
   "execution_count": null,
   "metadata": {},
   "outputs": [],
   "source": [
    "data.isna().sum()"
   ]
  },
  {
   "cell_type": "code",
   "execution_count": null,
   "metadata": {},
   "outputs": [],
   "source": [
    "# # score_shk\n",
    "data.drop(index=data[data['score_shk'].isna()].index, inplace=True)"
   ]
  },
  {
   "cell_type": "code",
   "execution_count": null,
   "metadata": {},
   "outputs": [],
   "source": [
    "data[data['score_shk'] == 'NON']"
   ]
  },
  {
   "cell_type": "code",
   "execution_count": null,
   "metadata": {},
   "outputs": [],
   "source": [
    "data['score_shk'] = data['score_shk'].map(lambda x: str(x).replace(',', '.')).astype('float')"
   ]
  },
  {
   "cell_type": "markdown",
   "metadata": {},
   "source": [
    "# Classification by open_account_flg\n",
    "\n",
    "## Purpose: classification of users by opening a credit account"
   ]
  }
 ],
 "metadata": {
  "interpreter": {
   "hash": "b3ba2566441a7c06988d0923437866b63cedc61552a5af99d1f4fb67d367b25f"
  },
  "kernelspec": {
   "display_name": "Python 3.8.8 64-bit ('base': conda)",
   "name": "python3"
  },
  "language_info": {
   "codemirror_mode": {
    "name": "ipython",
    "version": 3
   },
   "file_extension": ".py",
   "mimetype": "text/x-python",
   "name": "python",
   "nbconvert_exporter": "python",
   "pygments_lexer": "ipython3",
   "version": "3.8.8"
  },
  "orig_nbformat": 4
 },
 "nbformat": 4,
 "nbformat_minor": 2
}
